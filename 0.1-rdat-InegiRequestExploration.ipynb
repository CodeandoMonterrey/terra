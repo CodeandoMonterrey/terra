{
 "cells": [
  {
   "cell_type": "code",
   "execution_count": 1,
   "metadata": {
    "collapsed": true
   },
   "outputs": [],
   "source": [
    "import requests"
   ]
  },
  {
   "cell_type": "code",
   "execution_count": 2,
   "metadata": {
    "collapsed": true
   },
   "outputs": [],
   "source": [
    "request_headers={\"Content-Type\":\"application/json\"}"
   ]
  },
  {
   "cell_type": "code",
   "execution_count": 3,
   "metadata": {
    "collapsed": true
   },
   "outputs": [],
   "source": [
    "request_body = '{\"idUser\":\"\", \"pagina\":1, \"paramProy\":\"\", \"proyName\":\"mdm6\", \"searchCriteria\":\"Acapulco, Monterrey -- Garza Sada\", \"tabla\":\"geolocator\", \"where\":\"\"}'"
   ]
  },
  {
   "cell_type": "code",
   "execution_count": 4,
   "metadata": {
    "collapsed": false
   },
   "outputs": [],
   "source": [
    "r = requests.get(\"http://gaia.inegi.org.mx/NLB/tunnel/TableAliasV60/busqueda\", headers=request_headers, data = request_body )"
   ]
  },
  {
   "cell_type": "code",
   "execution_count": 15,
   "metadata": {
    "collapsed": false
   },
   "outputs": [],
   "source": [
    "def call(address):\n",
    "    request_headers={\"Content-Type\":\"application/json\"}\n",
    "    request_body = '{\"idUser\":\"\", \"pagina\":1, \"paramProy\":\"\", \"proyName\":\"mdm6\", \"searchCriteria\":\"'+ address+'\", \"tabla\":\"geolocator\", \"where\":\"\"}'\n",
    "    r = requests.get(\"http://gaia.inegi.org.mx/NLB/tunnel/TableAliasV60/busqueda\", headers=request_headers, data = request_body )\n",
    "    return r"
   ]
  },
  {
   "cell_type": "code",
   "execution_count": 18,
   "metadata": {
    "collapsed": true
   },
   "outputs": [],
   "source": [
    "r= call(\"Puerto Soconusco, Monterrey -- Puerto Castilla\")"
   ]
  },
  {
   "cell_type": "code",
   "execution_count": 19,
   "metadata": {
    "collapsed": false
   },
   "outputs": [
    {
     "data": {
      "text/plain": [
       "{'data': {'aliasUsuario': 'Esquinero',\n",
       "  'camposTotales': None,\n",
       "  'currentPage': 1,\n",
       "  'esTotales': False,\n",
       "  'tabla': 'geocalles',\n",
       "  'totalFields': 1,\n",
       "  'typeFields': '',\n",
       "  'value': [{'fields': {'fields': [{'aliasName': 'Calle',\n",
       "       'value': 'Puerto Soconusco'},\n",
       "      {'aliasName': 'Entidad, Municipio',\n",
       "       'value': 'Nuevo León,  Monterrey,  Monterrey'},\n",
       "      {'aliasName': 'Calle', 'value': 'Puerto Castilla'},\n",
       "      {'aliasName': 'Entidad, Municipio',\n",
       "       'value': 'Nuevo León,  Monterrey,  Monterrey'},\n",
       "      {'aliasName': 'ubicacion',\n",
       "       'value': 'POLYGON((-11163663.4399953 2952895.60067073,-11163663.4399953 2952895.60107073,-11163663.4395953 2952895.60107073,-11163663.4395953 2952895.60067073,-11163663.4399953 2952895.60067073))'},\n",
       "      {'aliasName': '_coordenada',\n",
       "       'value': 'POINT(-11163663.4397953 2952895.60087073)'}]}}]},\n",
       " 'response': {'message': None, 'success': True}}"
      ]
     },
     "execution_count": 19,
     "metadata": {},
     "output_type": "execute_result"
    }
   ],
   "source": [
    "r.json()"
   ]
  },
  {
   "cell_type": "code",
   "execution_count": 8,
   "metadata": {
    "collapsed": false
   },
   "outputs": [],
   "source": []
  },
  {
   "cell_type": "code",
   "execution_count": 35,
   "metadata": {
    "collapsed": true
   },
   "outputs": [],
   "source": [
    "def crossing(street1, street2, city):\n",
    "    query = street1 + \", \" + city + \" --\" + \" \" + street2\n",
    "    output = call(query)\n",
    "    return output"
   ]
  },
  {
   "cell_type": "code",
   "execution_count": 48,
   "metadata": {
    "collapsed": false
   },
   "outputs": [
    {
     "name": "stdout",
     "output_type": "stream",
     "text": [
      "{'response': {'message': None, 'success': True}, 'data': {'esTotales': False, 'camposTotales': None, 'typeFields': '', 'value': [{'fields': {'fields': [{'value': 'Puerto Soconusco', 'aliasName': 'Calle'}, {'value': 'Nuevo León,  Monterrey,  Monterrey', 'aliasName': 'Entidad, Municipio'}, {'value': 'Puerto Castilla', 'aliasName': 'Calle'}, {'value': 'Nuevo León,  Monterrey,  Monterrey', 'aliasName': 'Entidad, Municipio'}, {'value': 'POLYGON((-11163663.4399953 2952895.60067073,-11163663.4399953 2952895.60107073,-11163663.4395953 2952895.60107073,-11163663.4395953 2952895.60067073,-11163663.4399953 2952895.60067073))', 'aliasName': 'ubicacion'}, {'value': 'POINT(-11163663.4397953 2952895.60087073)', 'aliasName': '_coordenada'}]}}], 'aliasUsuario': 'Esquinero', 'tabla': 'geocalles', 'totalFields': 1, 'currentPage': 1}}\n"
     ]
    }
   ],
   "source": [
    "a = crossing(\"soconusco\", \"castilla\",\"monterrey\")\n",
    "print(a)"
   ]
  },
  {
   "cell_type": "code",
   "execution_count": 44,
   "metadata": {
    "collapsed": true
   },
   "outputs": [],
   "source": [
    "def convert_proj(x1,y1):\n",
    "    inProj = Proj(init='epsg:3857')\n",
    "    outProj = Proj(init='epsg:4326')\n",
    "    x2,y2 = transform(inProj,outProj,x1,y1)\n",
    "    return(x2,y2)"
   ]
  },
  {
   "cell_type": "code",
   "execution_count": 46,
   "metadata": {
    "collapsed": false
   },
   "outputs": [],
   "source": [
    "from pyproj import Proj, transform"
   ]
  },
  {
   "cell_type": "code",
   "execution_count": 47,
   "metadata": {
    "collapsed": false
   },
   "outputs": [
    {
     "data": {
      "text/plain": [
       "(-100.28489494734428, 25.626509506808368)"
      ]
     },
     "execution_count": 47,
     "metadata": {},
     "output_type": "execute_result"
    }
   ],
   "source": [
    "convert_proj(-11163663.4397953, 2952895.60087073)"
   ]
  },
  {
   "cell_type": "code",
   "execution_count": 50,
   "metadata": {
    "collapsed": false
   },
   "outputs": [
    {
     "data": {
      "text/plain": [
       "{'aliasUsuario': 'Esquinero',\n",
       " 'camposTotales': None,\n",
       " 'currentPage': 1,\n",
       " 'esTotales': False,\n",
       " 'tabla': 'geocalles',\n",
       " 'totalFields': 1,\n",
       " 'typeFields': '',\n",
       " 'value': [{'fields': {'fields': [{'aliasName': 'Calle',\n",
       "      'value': 'Puerto Soconusco'},\n",
       "     {'aliasName': 'Entidad, Municipio',\n",
       "      'value': 'Nuevo León,  Monterrey,  Monterrey'},\n",
       "     {'aliasName': 'Calle', 'value': 'Puerto Castilla'},\n",
       "     {'aliasName': 'Entidad, Municipio',\n",
       "      'value': 'Nuevo León,  Monterrey,  Monterrey'},\n",
       "     {'aliasName': 'ubicacion',\n",
       "      'value': 'POLYGON((-11163663.4399953 2952895.60067073,-11163663.4399953 2952895.60107073,-11163663.4395953 2952895.60107073,-11163663.4395953 2952895.60067073,-11163663.4399953 2952895.60067073))'},\n",
       "     {'aliasName': '_coordenada',\n",
       "      'value': 'POINT(-11163663.4397953 2952895.60087073)'}]}}]}"
      ]
     },
     "execution_count": 50,
     "metadata": {},
     "output_type": "execute_result"
    }
   ],
   "source": [
    "a['data']"
   ]
  },
  {
   "cell_type": "code",
   "execution_count": 51,
   "metadata": {
    "collapsed": false
   },
   "outputs": [
    {
     "data": {
      "text/plain": [
       "[{'fields': {'fields': [{'aliasName': 'Calle', 'value': 'Puerto Soconusco'},\n",
       "    {'aliasName': 'Entidad, Municipio',\n",
       "     'value': 'Nuevo León,  Monterrey,  Monterrey'},\n",
       "    {'aliasName': 'Calle', 'value': 'Puerto Castilla'},\n",
       "    {'aliasName': 'Entidad, Municipio',\n",
       "     'value': 'Nuevo León,  Monterrey,  Monterrey'},\n",
       "    {'aliasName': 'ubicacion',\n",
       "     'value': 'POLYGON((-11163663.4399953 2952895.60067073,-11163663.4399953 2952895.60107073,-11163663.4395953 2952895.60107073,-11163663.4395953 2952895.60067073,-11163663.4399953 2952895.60067073))'},\n",
       "    {'aliasName': '_coordenada',\n",
       "     'value': 'POINT(-11163663.4397953 2952895.60087073)'}]}}]"
      ]
     },
     "execution_count": 51,
     "metadata": {},
     "output_type": "execute_result"
    }
   ],
   "source": [
    "a['data']['value']"
   ]
  },
  {
   "cell_type": "code",
   "execution_count": 54,
   "metadata": {
    "collapsed": false
   },
   "outputs": [
    {
     "data": {
      "text/plain": [
       "{'fields': {'fields': [{'aliasName': 'Calle', 'value': 'Puerto Soconusco'},\n",
       "   {'aliasName': 'Entidad, Municipio',\n",
       "    'value': 'Nuevo León,  Monterrey,  Monterrey'},\n",
       "   {'aliasName': 'Calle', 'value': 'Puerto Castilla'},\n",
       "   {'aliasName': 'Entidad, Municipio',\n",
       "    'value': 'Nuevo León,  Monterrey,  Monterrey'},\n",
       "   {'aliasName': 'ubicacion',\n",
       "    'value': 'POLYGON((-11163663.4399953 2952895.60067073,-11163663.4399953 2952895.60107073,-11163663.4395953 2952895.60107073,-11163663.4395953 2952895.60067073,-11163663.4399953 2952895.60067073))'},\n",
       "   {'aliasName': '_coordenada',\n",
       "    'value': 'POINT(-11163663.4397953 2952895.60087073)'}]}}"
      ]
     },
     "execution_count": 54,
     "metadata": {},
     "output_type": "execute_result"
    }
   ],
   "source": [
    "a['data']['value'][0]"
   ]
  },
  {
   "cell_type": "code",
   "execution_count": 55,
   "metadata": {
    "collapsed": false
   },
   "outputs": [
    {
     "data": {
      "text/plain": [
       "{'fields': [{'aliasName': 'Calle', 'value': 'Puerto Soconusco'},\n",
       "  {'aliasName': 'Entidad, Municipio',\n",
       "   'value': 'Nuevo León,  Monterrey,  Monterrey'},\n",
       "  {'aliasName': 'Calle', 'value': 'Puerto Castilla'},\n",
       "  {'aliasName': 'Entidad, Municipio',\n",
       "   'value': 'Nuevo León,  Monterrey,  Monterrey'},\n",
       "  {'aliasName': 'ubicacion',\n",
       "   'value': 'POLYGON((-11163663.4399953 2952895.60067073,-11163663.4399953 2952895.60107073,-11163663.4395953 2952895.60107073,-11163663.4395953 2952895.60067073,-11163663.4399953 2952895.60067073))'},\n",
       "  {'aliasName': '_coordenada',\n",
       "   'value': 'POINT(-11163663.4397953 2952895.60087073)'}]}"
      ]
     },
     "execution_count": 55,
     "metadata": {},
     "output_type": "execute_result"
    }
   ],
   "source": [
    "a['data']['value'][0][\"fields\"]"
   ]
  },
  {
   "cell_type": "code",
   "execution_count": 56,
   "metadata": {
    "collapsed": false
   },
   "outputs": [
    {
     "data": {
      "text/plain": [
       "dict_keys(['fields'])"
      ]
     },
     "execution_count": 56,
     "metadata": {},
     "output_type": "execute_result"
    }
   ],
   "source": [
    "a['data']['value'][0][\"fields\"].keys()"
   ]
  },
  {
   "cell_type": "code",
   "execution_count": 57,
   "metadata": {
    "collapsed": false
   },
   "outputs": [
    {
     "data": {
      "text/plain": [
       "[{'aliasName': 'Calle', 'value': 'Puerto Soconusco'},\n",
       " {'aliasName': 'Entidad, Municipio',\n",
       "  'value': 'Nuevo León,  Monterrey,  Monterrey'},\n",
       " {'aliasName': 'Calle', 'value': 'Puerto Castilla'},\n",
       " {'aliasName': 'Entidad, Municipio',\n",
       "  'value': 'Nuevo León,  Monterrey,  Monterrey'},\n",
       " {'aliasName': 'ubicacion',\n",
       "  'value': 'POLYGON((-11163663.4399953 2952895.60067073,-11163663.4399953 2952895.60107073,-11163663.4395953 2952895.60107073,-11163663.4395953 2952895.60067073,-11163663.4399953 2952895.60067073))'},\n",
       " {'aliasName': '_coordenada',\n",
       "  'value': 'POINT(-11163663.4397953 2952895.60087073)'}]"
      ]
     },
     "execution_count": 57,
     "metadata": {},
     "output_type": "execute_result"
    }
   ],
   "source": [
    "a['data']['value'][0][\"fields\"][\"fields\"]"
   ]
  },
  {
   "cell_type": "code",
   "execution_count": 59,
   "metadata": {
    "collapsed": false
   },
   "outputs": [
    {
     "data": {
      "text/plain": [
       "{'aliasName': 'Calle', 'value': 'Puerto Soconusco'}"
      ]
     },
     "execution_count": 59,
     "metadata": {},
     "output_type": "execute_result"
    }
   ],
   "source": [
    "a['data']['value'][0][\"fields\"][\"fields\"][0]"
   ]
  },
  {
   "cell_type": "code",
   "execution_count": 60,
   "metadata": {
    "collapsed": false
   },
   "outputs": [
    {
     "data": {
      "text/plain": [
       "{'aliasName': 'Entidad, Municipio',\n",
       " 'value': 'Nuevo León,  Monterrey,  Monterrey'}"
      ]
     },
     "execution_count": 60,
     "metadata": {},
     "output_type": "execute_result"
    }
   ],
   "source": [
    "a['data']['value'][0][\"fields\"][\"fields\"][1]"
   ]
  },
  {
   "cell_type": "code",
   "execution_count": 62,
   "metadata": {
    "collapsed": false
   },
   "outputs": [
    {
     "data": {
      "text/plain": [
       "{'aliasName': '_coordenada',\n",
       " 'value': 'POINT(-11163663.4397953 2952895.60087073)'}"
      ]
     },
     "execution_count": 62,
     "metadata": {},
     "output_type": "execute_result"
    }
   ],
   "source": [
    "a['data']['value'][0][\"fields\"][\"fields\"][5]"
   ]
  },
  {
   "cell_type": "code",
   "execution_count": 63,
   "metadata": {
    "collapsed": false
   },
   "outputs": [
    {
     "data": {
      "text/plain": [
       "'POINT(-11163663.4397953 2952895.60087073)'"
      ]
     },
     "execution_count": 63,
     "metadata": {},
     "output_type": "execute_result"
    }
   ],
   "source": [
    "a['data']['value'][0][\"fields\"][\"fields\"][5][\"value\"]"
   ]
  },
  {
   "cell_type": "code",
   "execution_count": 64,
   "metadata": {
    "collapsed": false
   },
   "outputs": [
    {
     "data": {
      "text/plain": [
       "True"
      ]
     },
     "execution_count": 64,
     "metadata": {},
     "output_type": "execute_result"
    }
   ],
   "source": [
    "'POINT' in a['data']['value'][0][\"fields\"][\"fields\"][5][\"value\"]"
   ]
  },
  {
   "cell_type": "code",
   "execution_count": 33,
   "metadata": {
    "collapsed": true
   },
   "outputs": [],
   "source": [
    "def extract_point(response_json):\n",
    "    for alias in response_json['data']['value'][0][\"fields\"][\"fields\"]:\n",
    "        if 'POINT' in alias[\"value\"]:\n",
    "            point_text = alias[\"value\"]\n",
    "    point_text = point_text.replace(\"POINT(\",\"\")\n",
    "    point_text = point_text.replace(\")\",\"\")\n",
    "    x, y = point_text.split(\" \")\n",
    "    return float(x), float(y)"
   ]
  },
  {
   "cell_type": "code",
   "execution_count": 73,
   "metadata": {
    "collapsed": false
   },
   "outputs": [
    {
     "data": {
      "text/plain": [
       "(-11163663.4397953, 2952895.60087073)"
      ]
     },
     "execution_count": 73,
     "metadata": {},
     "output_type": "execute_result"
    }
   ],
   "source": [
    "extract_point(a)"
   ]
  },
  {
   "cell_type": "code",
   "execution_count": 99,
   "metadata": {
    "collapsed": true
   },
   "outputs": [],
   "source": [
    "def call(query):\n",
    "    request_headers={\"Content-Type\":\"application/json\"}\n",
    "    request_body = '{\"idUser\":\"\", \"pagina\":1, \"paramProy\":\"\", \"proyName\":\"mdm6\", \"searchCriteria\":\"'+ query +'\", \"tabla\":\"geolocator\", \"where\":\"\"}'\n",
    "    r = requests.get(\"http://gaia.inegi.org.mx/NLB/tunnel/TableAliasV60/busqueda\", headers=request_headers, data = request_body )\n",
    "    output = r.json()\n",
    "    #output[\"match\"] = tools.extract_point(output)\n",
    "    return output\n",
    "\n",
    "def crossing(street1, street2, city):\n",
    "    query = street1 + \", \" + city + \" --\" + \" \" + street2\n",
    "    output = call(query)\n",
    "    return output"
   ]
  },
  {
   "cell_type": "code",
   "execution_count": 100,
   "metadata": {
    "collapsed": false
   },
   "outputs": [
    {
     "data": {
      "text/plain": [
       "{'data': {'value': None},\n",
       " 'response': {'message': ['ERROR: function conviertenumext(character varying) does not existERROR: relation \"georeferenciacion2.numero_ext_rur_p\" does not exist'],\n",
       "  'success': False}}"
      ]
     },
     "execution_count": 100,
     "metadata": {},
     "output_type": "execute_result"
    }
   ],
   "source": [
    "call(\" Guadalajara No 6 Ruiz, Nayarit\")"
   ]
  },
  {
   "cell_type": "code",
   "execution_count": 76,
   "metadata": {
    "collapsed": true
   },
   "outputs": [],
   "source": [
    "import tools"
   ]
  },
  {
   "cell_type": "code",
   "execution_count": 119,
   "metadata": {
    "collapsed": false
   },
   "outputs": [
    {
     "data": {
      "text/plain": [
       "{'data': {'value': None},\n",
       " 'response': {'message': ['No records found.'], 'success': False}}"
      ]
     },
     "execution_count": 119,
     "metadata": {},
     "output_type": "execute_result"
    }
   ],
   "source": [
    "call(\"PREPARATORIA LA YESCA\")"
   ]
  },
  {
   "cell_type": "code",
   "execution_count": 105,
   "metadata": {
    "collapsed": false
   },
   "outputs": [
    {
     "ename": "JSONDecodeError",
     "evalue": "Expecting value: line 1 column 1 (char 0)",
     "output_type": "error",
     "traceback": [
      "\u001b[0;31m---------------------------------------------------------------------------\u001b[0m",
      "\u001b[0;31mJSONDecodeError\u001b[0m                           Traceback (most recent call last)",
      "\u001b[0;32m<ipython-input-105-e19e9ae3a2b0>\u001b[0m in \u001b[0;36m<module>\u001b[0;34m()\u001b[0m\n\u001b[0;32m----> 1\u001b[0;31m \u001b[0mcall\u001b[0m\u001b[0;34m(\u001b[0m\u001b[0;34m\"ESTANCIA DE LOS LOPEZ, AMATLAN DE CAÑAS\"\u001b[0m\u001b[0;34m)\u001b[0m\u001b[0;34m\u001b[0m\u001b[0m\n\u001b[0m",
      "\u001b[0;32m<ipython-input-99-159214b49750>\u001b[0m in \u001b[0;36mcall\u001b[0;34m(query)\u001b[0m\n\u001b[1;32m      3\u001b[0m     \u001b[0mrequest_body\u001b[0m \u001b[0;34m=\u001b[0m \u001b[0;34m'{\"idUser\":\"\", \"pagina\":1, \"paramProy\":\"\", \"proyName\":\"mdm6\", \"searchCriteria\":\"'\u001b[0m\u001b[0;34m+\u001b[0m \u001b[0mquery\u001b[0m \u001b[0;34m+\u001b[0m\u001b[0;34m'\", \"tabla\":\"geolocator\", \"where\":\"\"}'\u001b[0m\u001b[0;34m\u001b[0m\u001b[0m\n\u001b[1;32m      4\u001b[0m     \u001b[0mr\u001b[0m \u001b[0;34m=\u001b[0m \u001b[0mrequests\u001b[0m\u001b[0;34m.\u001b[0m\u001b[0mget\u001b[0m\u001b[0;34m(\u001b[0m\u001b[0;34m\"http://gaia.inegi.org.mx/NLB/tunnel/TableAliasV60/busqueda\"\u001b[0m\u001b[0;34m,\u001b[0m \u001b[0mheaders\u001b[0m\u001b[0;34m=\u001b[0m\u001b[0mrequest_headers\u001b[0m\u001b[0;34m,\u001b[0m \u001b[0mdata\u001b[0m \u001b[0;34m=\u001b[0m \u001b[0mrequest_body\u001b[0m \u001b[0;34m)\u001b[0m\u001b[0;34m\u001b[0m\u001b[0m\n\u001b[0;32m----> 5\u001b[0;31m     \u001b[0moutput\u001b[0m \u001b[0;34m=\u001b[0m \u001b[0mr\u001b[0m\u001b[0;34m.\u001b[0m\u001b[0mjson\u001b[0m\u001b[0;34m(\u001b[0m\u001b[0;34m)\u001b[0m\u001b[0;34m\u001b[0m\u001b[0m\n\u001b[0m\u001b[1;32m      6\u001b[0m     \u001b[0;31m#output[\"match\"] = tools.extract_point(output)\u001b[0m\u001b[0;34m\u001b[0m\u001b[0;34m\u001b[0m\u001b[0m\n\u001b[1;32m      7\u001b[0m     \u001b[0;32mreturn\u001b[0m \u001b[0moutput\u001b[0m\u001b[0;34m\u001b[0m\u001b[0m\n",
      "\u001b[0;32m/usr/local/lib/python3.4/site-packages/requests/models.py\u001b[0m in \u001b[0;36mjson\u001b[0;34m(self, **kwargs)\u001b[0m\n\u001b[1;32m    806\u001b[0m                     \u001b[0;31m# used.\u001b[0m\u001b[0;34m\u001b[0m\u001b[0;34m\u001b[0m\u001b[0m\n\u001b[1;32m    807\u001b[0m                     \u001b[0;32mpass\u001b[0m\u001b[0;34m\u001b[0m\u001b[0m\n\u001b[0;32m--> 808\u001b[0;31m         \u001b[0;32mreturn\u001b[0m \u001b[0mcomplexjson\u001b[0m\u001b[0;34m.\u001b[0m\u001b[0mloads\u001b[0m\u001b[0;34m(\u001b[0m\u001b[0mself\u001b[0m\u001b[0;34m.\u001b[0m\u001b[0mtext\u001b[0m\u001b[0;34m,\u001b[0m \u001b[0;34m**\u001b[0m\u001b[0mkwargs\u001b[0m\u001b[0;34m)\u001b[0m\u001b[0;34m\u001b[0m\u001b[0m\n\u001b[0m\u001b[1;32m    809\u001b[0m \u001b[0;34m\u001b[0m\u001b[0m\n\u001b[1;32m    810\u001b[0m     \u001b[0;34m@\u001b[0m\u001b[0mproperty\u001b[0m\u001b[0;34m\u001b[0m\u001b[0m\n",
      "\u001b[0;32m/usr/local/lib/python3.4/site-packages/simplejson/__init__.py\u001b[0m in \u001b[0;36mloads\u001b[0;34m(s, encoding, cls, object_hook, parse_float, parse_int, parse_constant, object_pairs_hook, use_decimal, **kw)\u001b[0m\n\u001b[1;32m    503\u001b[0m             \u001b[0mparse_constant\u001b[0m \u001b[0;32mis\u001b[0m \u001b[0;32mNone\u001b[0m \u001b[0;32mand\u001b[0m \u001b[0mobject_pairs_hook\u001b[0m \u001b[0;32mis\u001b[0m \u001b[0;32mNone\u001b[0m\u001b[0;34m\u001b[0m\u001b[0m\n\u001b[1;32m    504\u001b[0m             and not use_decimal and not kw):\n\u001b[0;32m--> 505\u001b[0;31m         \u001b[0;32mreturn\u001b[0m \u001b[0m_default_decoder\u001b[0m\u001b[0;34m.\u001b[0m\u001b[0mdecode\u001b[0m\u001b[0;34m(\u001b[0m\u001b[0ms\u001b[0m\u001b[0;34m)\u001b[0m\u001b[0;34m\u001b[0m\u001b[0m\n\u001b[0m\u001b[1;32m    506\u001b[0m     \u001b[0;32mif\u001b[0m \u001b[0mcls\u001b[0m \u001b[0;32mis\u001b[0m \u001b[0;32mNone\u001b[0m\u001b[0;34m:\u001b[0m\u001b[0;34m\u001b[0m\u001b[0m\n\u001b[1;32m    507\u001b[0m         \u001b[0mcls\u001b[0m \u001b[0;34m=\u001b[0m \u001b[0mJSONDecoder\u001b[0m\u001b[0;34m\u001b[0m\u001b[0m\n",
      "\u001b[0;32m/usr/local/lib/python3.4/site-packages/simplejson/decoder.py\u001b[0m in \u001b[0;36mdecode\u001b[0;34m(self, s, _w, _PY3)\u001b[0m\n\u001b[1;32m    368\u001b[0m         \u001b[0;32mif\u001b[0m \u001b[0m_PY3\u001b[0m \u001b[0;32mand\u001b[0m \u001b[0misinstance\u001b[0m\u001b[0;34m(\u001b[0m\u001b[0ms\u001b[0m\u001b[0;34m,\u001b[0m \u001b[0mbinary_type\u001b[0m\u001b[0;34m)\u001b[0m\u001b[0;34m:\u001b[0m\u001b[0;34m\u001b[0m\u001b[0m\n\u001b[1;32m    369\u001b[0m             \u001b[0ms\u001b[0m \u001b[0;34m=\u001b[0m \u001b[0ms\u001b[0m\u001b[0;34m.\u001b[0m\u001b[0mdecode\u001b[0m\u001b[0;34m(\u001b[0m\u001b[0mself\u001b[0m\u001b[0;34m.\u001b[0m\u001b[0mencoding\u001b[0m\u001b[0;34m)\u001b[0m\u001b[0;34m\u001b[0m\u001b[0m\n\u001b[0;32m--> 370\u001b[0;31m         \u001b[0mobj\u001b[0m\u001b[0;34m,\u001b[0m \u001b[0mend\u001b[0m \u001b[0;34m=\u001b[0m \u001b[0mself\u001b[0m\u001b[0;34m.\u001b[0m\u001b[0mraw_decode\u001b[0m\u001b[0;34m(\u001b[0m\u001b[0ms\u001b[0m\u001b[0;34m)\u001b[0m\u001b[0;34m\u001b[0m\u001b[0m\n\u001b[0m\u001b[1;32m    371\u001b[0m         \u001b[0mend\u001b[0m \u001b[0;34m=\u001b[0m \u001b[0m_w\u001b[0m\u001b[0;34m(\u001b[0m\u001b[0ms\u001b[0m\u001b[0;34m,\u001b[0m \u001b[0mend\u001b[0m\u001b[0;34m)\u001b[0m\u001b[0;34m.\u001b[0m\u001b[0mend\u001b[0m\u001b[0;34m(\u001b[0m\u001b[0;34m)\u001b[0m\u001b[0;34m\u001b[0m\u001b[0m\n\u001b[1;32m    372\u001b[0m         \u001b[0;32mif\u001b[0m \u001b[0mend\u001b[0m \u001b[0;34m!=\u001b[0m \u001b[0mlen\u001b[0m\u001b[0;34m(\u001b[0m\u001b[0ms\u001b[0m\u001b[0;34m)\u001b[0m\u001b[0;34m:\u001b[0m\u001b[0;34m\u001b[0m\u001b[0m\n",
      "\u001b[0;32m/usr/local/lib/python3.4/site-packages/simplejson/decoder.py\u001b[0m in \u001b[0;36mraw_decode\u001b[0;34m(self, s, idx, _w, _PY3)\u001b[0m\n\u001b[1;32m    398\u001b[0m             \u001b[0;32melif\u001b[0m \u001b[0mord0\u001b[0m \u001b[0;34m==\u001b[0m \u001b[0;36m0xef\u001b[0m \u001b[0;32mand\u001b[0m \u001b[0ms\u001b[0m\u001b[0;34m[\u001b[0m\u001b[0midx\u001b[0m\u001b[0;34m:\u001b[0m\u001b[0midx\u001b[0m \u001b[0;34m+\u001b[0m \u001b[0;36m3\u001b[0m\u001b[0;34m]\u001b[0m \u001b[0;34m==\u001b[0m \u001b[0;34m'\\xef\\xbb\\xbf'\u001b[0m\u001b[0;34m:\u001b[0m\u001b[0;34m\u001b[0m\u001b[0m\n\u001b[1;32m    399\u001b[0m                 \u001b[0midx\u001b[0m \u001b[0;34m+=\u001b[0m \u001b[0;36m3\u001b[0m\u001b[0;34m\u001b[0m\u001b[0m\n\u001b[0;32m--> 400\u001b[0;31m         \u001b[0;32mreturn\u001b[0m \u001b[0mself\u001b[0m\u001b[0;34m.\u001b[0m\u001b[0mscan_once\u001b[0m\u001b[0;34m(\u001b[0m\u001b[0ms\u001b[0m\u001b[0;34m,\u001b[0m \u001b[0midx\u001b[0m\u001b[0;34m=\u001b[0m\u001b[0m_w\u001b[0m\u001b[0;34m(\u001b[0m\u001b[0ms\u001b[0m\u001b[0;34m,\u001b[0m \u001b[0midx\u001b[0m\u001b[0;34m)\u001b[0m\u001b[0;34m.\u001b[0m\u001b[0mend\u001b[0m\u001b[0;34m(\u001b[0m\u001b[0;34m)\u001b[0m\u001b[0;34m)\u001b[0m\u001b[0;34m\u001b[0m\u001b[0m\n\u001b[0m",
      "\u001b[0;31mJSONDecodeError\u001b[0m: Expecting value: line 1 column 1 (char 0)"
     ]
    }
   ],
   "source": [
    "call(\"ESTANCIA DE LOS LOPEZ, AMATLAN DE CAÑAS\")"
   ]
  },
  {
   "cell_type": "code",
   "execution_count": 111,
   "metadata": {
    "collapsed": false
   },
   "outputs": [
    {
     "data": {
      "text/plain": [
       "{'data': {'aliasUsuario': 'Geolocalizador',\n",
       "  'camposTotales': None,\n",
       "  'currentPage': 1,\n",
       "  'esTotales': False,\n",
       "  'tabla': 'geolocator',\n",
       "  'totalFields': 23,\n",
       "  'typeFields': '',\n",
       "  'value': [{'fields': {'fields': [{'aliasName': 'Tipo', 'value': 'Colonias'},\n",
       "      {'aliasName': 'Nombre', 'value': 'FRANCISCO GARZA SADA'},\n",
       "      {'aliasName': 'Referencia',\n",
       "       'value': 'Nuevo León, San Nicolás de los Garza, San Nicolás de los Garza'},\n",
       "      {'aliasName': 'ubicacion',\n",
       "       'value': 'POLYGON((-100.268119812012 25.7032775878906,-100.268119812012 25.7077541351318,-100.259399414063 25.7077541351318,-100.259399414063 25.7032775878906,-100.268119812012 25.7032775878906))'}]}},\n",
       "   {'fields': {'fields': [{'aliasName': 'Tipo', 'value': 'Calle'},\n",
       "      {'aliasName': 'Nombre', 'value': 'Francisco Garza Sada'},\n",
       "      {'aliasName': 'Referencia', 'value': 'Nuevo León, Monterrey, Monterrey'},\n",
       "      {'aliasName': 'ubicacion',\n",
       "       'value': 'POLYGON((-100.350067138672 25.6768703460693,-100.350067138672 25.6810932159424,-100.336151123047 25.6810932159424,-100.336151123047 25.6768703460693,-100.350067138672 25.6768703460693))'}]}},\n",
       "   {'fields': {'fields': [{'aliasName': 'Tipo', 'value': 'Calle'},\n",
       "      {'aliasName': 'Nombre', 'value': 'Eugenio Garza Sada'},\n",
       "      {'aliasName': 'Referencia', 'value': 'Nuevo León, Monterrey, Monterrey'},\n",
       "      {'aliasName': 'ubicacion',\n",
       "       'value': 'POLYGON((-100.297630310059 25.5833721160889,-100.297630310059 25.6668643951416,-100.254867553711 25.6668643951416,-100.254867553711 25.5833721160889,-100.297630310059 25.5833721160889))'}]}},\n",
       "   {'fields': {'fields': [{'aliasName': 'Tipo', 'value': 'Calle'},\n",
       "      {'aliasName': 'Nombre', 'value': 'Eugenio Garza Sada'},\n",
       "      {'aliasName': 'Referencia',\n",
       "       'value': 'San Luis Potosí, San Luis Potosí, San Luis Potosí'},\n",
       "      {'aliasName': 'ubicacion',\n",
       "       'value': 'POLYGON((-101.037872314453 22.1209335327148,-101.037872314453 22.1321754455566,-101.031852722168 22.1321754455566,-101.031852722168 22.1209335327148,-101.037872314453 22.1209335327148))'}]}},\n",
       "   {'fields': {'fields': [{'aliasName': 'Tipo', 'value': 'Calle'},\n",
       "      {'aliasName': 'Nombre', 'value': 'Eugenio Garza Sada'},\n",
       "      {'aliasName': 'Referencia', 'value': 'Nuevo León, Monterrey, Monterrey'},\n",
       "      {'aliasName': 'ubicacion',\n",
       "       'value': 'POLYGON((-100.27587890625 25.6239433288574,-100.27587890625 25.6247806549072,-100.275230407715 25.6247806549072,-100.275230407715 25.6239433288574,-100.27587890625 25.6239433288574))'}]}},\n",
       "   {'fields': {'fields': [{'aliasName': 'Tipo', 'value': 'Calle'},\n",
       "      {'aliasName': 'Nombre', 'value': 'Eugenio Garza Sada'},\n",
       "      {'aliasName': 'Referencia',\n",
       "       'value': 'Nuevo León, Santa Catarina, Ciudad Santa Catarina'},\n",
       "      {'aliasName': 'ubicacion',\n",
       "       'value': 'POLYGON((-100.436141967773 25.6593818664551,-100.436141967773 25.6599826812744,-100.43480682373 25.6599826812744,-100.43480682373 25.6593818664551,-100.436141967773 25.6593818664551))'}]}},\n",
       "   {'fields': {'fields': [{'aliasName': 'Tipo', 'value': 'Calle'},\n",
       "      {'aliasName': 'Nombre', 'value': 'Eugenio Garza Sada'},\n",
       "      {'aliasName': 'Referencia',\n",
       "       'value': 'Veracruz de Ignacio de la Llave, Córdoba, Córdoba'},\n",
       "      {'aliasName': 'ubicacion',\n",
       "       'value': 'POLYGON((-96.9795913696289 18.8914775848389,-96.9795913696289 18.8955574035645,-96.9790802001953 18.8955574035645,-96.9790802001953 18.8914775848389,-96.9795913696289 18.8914775848389))'}]}},\n",
       "   {'fields': {'fields': [{'aliasName': 'Tipo', 'value': 'Calle'},\n",
       "      {'aliasName': 'Nombre', 'value': 'Eugenio Garza Sada'},\n",
       "      {'aliasName': 'Referencia',\n",
       "       'value': 'Nuevo León, Cadereyta Jiménez, Cadereyta Jiménez'},\n",
       "      {'aliasName': 'ubicacion',\n",
       "       'value': 'POLYGON((-99.9867248535156 25.598482131958,-99.9867248535156 25.5997333526611,-99.9826812744141 25.5997333526611,-99.9826812744141 25.598482131958,-99.9867248535156 25.598482131958))'}]}},\n",
       "   {'fields': {'fields': [{'aliasName': 'Tipo', 'value': 'Calle'},\n",
       "      {'aliasName': 'Nombre', 'value': 'Eugenio Garza Sada'},\n",
       "      {'aliasName': 'Referencia', 'value': 'Nuevo León, Guadalupe, Guadalupe'},\n",
       "      {'aliasName': 'ubicacion',\n",
       "       'value': 'POLYGON((-100.207038879395 25.7111110687256,-100.207038879395 25.7128238677979,-100.206893920898 25.7128238677979,-100.206893920898 25.7111110687256,-100.207038879395 25.7111110687256))'}]}},\n",
       "   {'fields': {'fields': [{'aliasName': 'Tipo', 'value': 'Calle'},\n",
       "      {'aliasName': 'Nombre', 'value': 'Roberto Garza Sada'},\n",
       "      {'aliasName': 'Referencia',\n",
       "       'value': 'Nuevo León, San Pedro Garza García, San Pedro Garza García'},\n",
       "      {'aliasName': 'ubicacion',\n",
       "       'value': 'POLYGON((-100.360633850098 25.6349849700928,-100.360633850098 25.6352729797363,-100.360618591309 25.6352729797363,-100.360618591309 25.6349849700928,-100.360633850098 25.6349849700928))'}]}},\n",
       "   {'fields': {'fields': [{'aliasName': 'Tipo', 'value': 'Calle'},\n",
       "      {'aliasName': 'Nombre', 'value': 'Roberto Garza Sada'},\n",
       "      {'aliasName': 'Referencia',\n",
       "       'value': 'Nuevo León, San Pedro Garza García, San Pedro Garza García'},\n",
       "      {'aliasName': 'ubicacion',\n",
       "       'value': 'POLYGON((-100.389526367188 25.6352672576904,-100.389526367188 25.6413402557373,-100.353981018066 25.6413402557373,-100.353981018066 25.6352672576904,-100.389526367188 25.6352672576904))'}]}},\n",
       "   {'fields': {'fields': [{'aliasName': 'Tipo', 'value': 'Calle'},\n",
       "      {'aliasName': 'Nombre', 'value': 'Eugenio Garza Sada'},\n",
       "      {'aliasName': 'Referencia',\n",
       "       'value': 'Veracruz de Ignacio de la Llave, Córdoba, Córdoba'},\n",
       "      {'aliasName': 'ubicacion',\n",
       "       'value': 'POLYGON((-96.9803009033203 18.8963565826416,-96.9803009033203 18.8969306945801,-96.9799423217773 18.8969306945801,-96.9799423217773 18.8963565826416,-96.9803009033203 18.8963565826416))'}]}},\n",
       "   {'fields': {'fields': [{'aliasName': 'Tipo', 'value': 'Calle'},\n",
       "      {'aliasName': 'Nombre', 'value': 'Eugenio Garza Sada'},\n",
       "      {'aliasName': 'Referencia',\n",
       "       'value': 'Veracruz de Ignacio de la Llave, Córdoba, Córdoba'},\n",
       "      {'aliasName': 'ubicacion',\n",
       "       'value': 'POLYGON((-96.980598449707 18.8957099914551,-96.980598449707 18.8964042663574,-96.9797973632813 18.8964042663574,-96.9797973632813 18.8957099914551,-96.980598449707 18.8957099914551))'}]}},\n",
       "   {'fields': {'fields': [{'aliasName': 'Tipo', 'value': 'Calle'},\n",
       "      {'aliasName': 'Nombre', 'value': 'Eugenio Garza Sada'},\n",
       "      {'aliasName': 'Referencia', 'value': 'Nuevo León, Carmen, Carmen'},\n",
       "      {'aliasName': 'ubicacion',\n",
       "       'value': 'POLYGON((-100.367164611816 25.9467849731445,-100.367164611816 25.947265625,-100.363647460938 25.947265625,-100.363647460938 25.9467849731445,-100.367164611816 25.9467849731445))'}]}},\n",
       "   {'fields': {'fields': [{'aliasName': 'Tipo', 'value': 'Calle'},\n",
       "      {'aliasName': 'Nombre', 'value': 'Eugenio Garza Sada'},\n",
       "      {'aliasName': 'Referencia',\n",
       "       'value': 'Guanajuato, León, León de los Aldama'},\n",
       "      {'aliasName': 'ubicacion',\n",
       "       'value': 'POLYGON((-101.714767456055 21.155689239502,-101.714767456055 21.167947769165,-101.705146789551 21.167947769165,-101.705146789551 21.155689239502,-101.714767456055 21.155689239502))'}]}},\n",
       "   {'fields': {'fields': [{'aliasName': 'Tipo', 'value': 'Calle'},\n",
       "      {'aliasName': 'Nombre', 'value': 'Eugenio Garza Sada'},\n",
       "      {'aliasName': 'Referencia',\n",
       "       'value': 'Guanajuato, León, León de los Aldama'},\n",
       "      {'aliasName': 'ubicacion',\n",
       "       'value': 'POLYGON((-101.714767456055 21.1679458618164,-101.714767456055 21.1697559356689,-101.711624145508 21.1697559356689,-101.711624145508 21.1679458618164,-101.714767456055 21.1679458618164))'}]}},\n",
       "   {'fields': {'fields': [{'aliasName': 'Tipo', 'value': 'Calle'},\n",
       "      {'aliasName': 'Nombre', 'value': 'Eugenio Garza Sada'},\n",
       "      {'aliasName': 'Referencia',\n",
       "       'value': 'Guanajuato, León, León de los Aldama'},\n",
       "      {'aliasName': 'ubicacion',\n",
       "       'value': 'POLYGON((-101.71981048584 21.1647281646729,-101.71981048584 21.1679534912109,-101.71475982666 21.1679534912109,-101.71475982666 21.1647281646729,-101.71981048584 21.1647281646729))'}]}},\n",
       "   {'fields': {'fields': [{'aliasName': 'Tipo', 'value': 'Calle'},\n",
       "      {'aliasName': 'Nombre', 'value': 'Eugenio Garza Sada'},\n",
       "      {'aliasName': 'Referencia',\n",
       "       'value': 'Nuevo León, Santa Catarina, Ciudad Santa Catarina'},\n",
       "      {'aliasName': 'ubicacion',\n",
       "       'value': 'POLYGON((-100.434074401855 25.6598300933838,-100.434074401855 25.6600971221924,-100.432716369629 25.6600971221924,-100.432716369629 25.6598300933838,-100.434074401855 25.6598300933838))'}]}},\n",
       "   {'fields': {'fields': [{'aliasName': 'Tipo', 'value': 'Calle'},\n",
       "      {'aliasName': 'Nombre', 'value': 'Roberto Garza Sada'},\n",
       "      {'aliasName': 'Referencia',\n",
       "       'value': 'Nuevo León, San Nicolás de los Garza, San Nicolás de los Garza'},\n",
       "      {'aliasName': 'ubicacion',\n",
       "       'value': 'POLYGON((-100.266357421875 25.7047176361084,-100.266357421875 25.7188415527344,-100.254852294922 25.7188415527344,-100.254852294922 25.7047176361084,-100.266357421875 25.7047176361084))'}]}},\n",
       "   {'fields': {'fields': [{'aliasName': 'Tipo', 'value': 'Calle'},\n",
       "      {'aliasName': 'Nombre', 'value': 'Eugenio Garza Sada'},\n",
       "      {'aliasName': 'Referencia',\n",
       "       'value': 'Aguascalientes, Aguascalientes, Pocitos'},\n",
       "      {'aliasName': 'ubicacion',\n",
       "       'value': 'POLYGON((-102.334007263184 21.9148006439209,-102.334007263184 21.9179878234863,-102.33031463623 21.9179878234863,-102.33031463623 21.9148006439209,-102.334007263184 21.9148006439209))'}]}},\n",
       "   {'fields': {'fields': [{'aliasName': 'Tipo', 'value': 'Calle'},\n",
       "      {'aliasName': 'Nombre', 'value': 'Eugenio Garza Sada'},\n",
       "      {'aliasName': 'Referencia',\n",
       "       'value': 'Aguascalientes, Aguascalientes, Pocitos'},\n",
       "      {'aliasName': 'ubicacion',\n",
       "       'value': 'POLYGON((-102.330322265625 21.90993309021,-102.330322265625 21.9148025512695,-102.328804016113 21.9148025512695,-102.328804016113 21.90993309021,-102.330322265625 21.90993309021))'}]}},\n",
       "   {'fields': {'fields': [{'aliasName': 'Tipo', 'value': 'Calle'},\n",
       "      {'aliasName': 'Nombre', 'value': 'Eugenio Garza Sada'},\n",
       "      {'aliasName': 'Referencia', 'value': 'Nuevo León, Carmen, Carmen'},\n",
       "      {'aliasName': 'ubicacion',\n",
       "       'value': 'POLYGON((-100.362258911133 25.9474449157715,-100.362258911133 25.9475917816162,-100.361000061035 25.9475917816162,-100.361000061035 25.9474449157715,-100.362258911133 25.9474449157715))'}]}},\n",
       "   {'fields': {'fields': [{'aliasName': 'Tipo', 'value': 'Calle'},\n",
       "      {'aliasName': 'Nombre', 'value': 'Eugenio Garza Sada'},\n",
       "      {'aliasName': 'Referencia',\n",
       "       'value': 'Aguascalientes, Aguascalientes, Pocitos'},\n",
       "      {'aliasName': 'ubicacion',\n",
       "       'value': 'POLYGON((-102.334503173828 21.9179859161377,-102.334503173828 21.9188175201416,-102.333999633789 21.9188175201416,-102.333999633789 21.9179859161377,-102.334503173828 21.9179859161377))'}]}}]},\n",
       " 'response': {'message': None, 'success': True}}"
      ]
     },
     "execution_count": 111,
     "metadata": {},
     "output_type": "execute_result"
    }
   ],
   "source": [
    "call(\"Av. Garza Sada\")"
   ]
  },
  {
   "cell_type": "code",
   "execution_count": 112,
   "metadata": {
    "collapsed": false
   },
   "outputs": [
    {
     "ename": "JSONDecodeError",
     "evalue": "Expecting value: line 1 column 1 (char 0)",
     "output_type": "error",
     "traceback": [
      "\u001b[0;31m---------------------------------------------------------------------------\u001b[0m",
      "\u001b[0;31mJSONDecodeError\u001b[0m                           Traceback (most recent call last)",
      "\u001b[0;32m<ipython-input-112-4440d03eb43f>\u001b[0m in \u001b[0;36m<module>\u001b[0;34m()\u001b[0m\n\u001b[0;32m----> 1\u001b[0;31m \u001b[0mcall\u001b[0m\u001b[0;34m(\u001b[0m\u001b[0;34m\"ESTANCIA DE LOS LOPEZ, AMATLÁN DE CANAS\"\u001b[0m\u001b[0;34m)\u001b[0m\u001b[0;34m\u001b[0m\u001b[0m\n\u001b[0m",
      "\u001b[0;32m<ipython-input-99-159214b49750>\u001b[0m in \u001b[0;36mcall\u001b[0;34m(query)\u001b[0m\n\u001b[1;32m      3\u001b[0m     \u001b[0mrequest_body\u001b[0m \u001b[0;34m=\u001b[0m \u001b[0;34m'{\"idUser\":\"\", \"pagina\":1, \"paramProy\":\"\", \"proyName\":\"mdm6\", \"searchCriteria\":\"'\u001b[0m\u001b[0;34m+\u001b[0m \u001b[0mquery\u001b[0m \u001b[0;34m+\u001b[0m\u001b[0;34m'\", \"tabla\":\"geolocator\", \"where\":\"\"}'\u001b[0m\u001b[0;34m\u001b[0m\u001b[0m\n\u001b[1;32m      4\u001b[0m     \u001b[0mr\u001b[0m \u001b[0;34m=\u001b[0m \u001b[0mrequests\u001b[0m\u001b[0;34m.\u001b[0m\u001b[0mget\u001b[0m\u001b[0;34m(\u001b[0m\u001b[0;34m\"http://gaia.inegi.org.mx/NLB/tunnel/TableAliasV60/busqueda\"\u001b[0m\u001b[0;34m,\u001b[0m \u001b[0mheaders\u001b[0m\u001b[0;34m=\u001b[0m\u001b[0mrequest_headers\u001b[0m\u001b[0;34m,\u001b[0m \u001b[0mdata\u001b[0m \u001b[0;34m=\u001b[0m \u001b[0mrequest_body\u001b[0m \u001b[0;34m)\u001b[0m\u001b[0;34m\u001b[0m\u001b[0m\n\u001b[0;32m----> 5\u001b[0;31m     \u001b[0moutput\u001b[0m \u001b[0;34m=\u001b[0m \u001b[0mr\u001b[0m\u001b[0;34m.\u001b[0m\u001b[0mjson\u001b[0m\u001b[0;34m(\u001b[0m\u001b[0;34m)\u001b[0m\u001b[0;34m\u001b[0m\u001b[0m\n\u001b[0m\u001b[1;32m      6\u001b[0m     \u001b[0;31m#output[\"match\"] = tools.extract_point(output)\u001b[0m\u001b[0;34m\u001b[0m\u001b[0;34m\u001b[0m\u001b[0m\n\u001b[1;32m      7\u001b[0m     \u001b[0;32mreturn\u001b[0m \u001b[0moutput\u001b[0m\u001b[0;34m\u001b[0m\u001b[0m\n",
      "\u001b[0;32m/usr/local/lib/python3.4/site-packages/requests/models.py\u001b[0m in \u001b[0;36mjson\u001b[0;34m(self, **kwargs)\u001b[0m\n\u001b[1;32m    806\u001b[0m                     \u001b[0;31m# used.\u001b[0m\u001b[0;34m\u001b[0m\u001b[0;34m\u001b[0m\u001b[0m\n\u001b[1;32m    807\u001b[0m                     \u001b[0;32mpass\u001b[0m\u001b[0;34m\u001b[0m\u001b[0m\n\u001b[0;32m--> 808\u001b[0;31m         \u001b[0;32mreturn\u001b[0m \u001b[0mcomplexjson\u001b[0m\u001b[0;34m.\u001b[0m\u001b[0mloads\u001b[0m\u001b[0;34m(\u001b[0m\u001b[0mself\u001b[0m\u001b[0;34m.\u001b[0m\u001b[0mtext\u001b[0m\u001b[0;34m,\u001b[0m \u001b[0;34m**\u001b[0m\u001b[0mkwargs\u001b[0m\u001b[0;34m)\u001b[0m\u001b[0;34m\u001b[0m\u001b[0m\n\u001b[0m\u001b[1;32m    809\u001b[0m \u001b[0;34m\u001b[0m\u001b[0m\n\u001b[1;32m    810\u001b[0m     \u001b[0;34m@\u001b[0m\u001b[0mproperty\u001b[0m\u001b[0;34m\u001b[0m\u001b[0m\n",
      "\u001b[0;32m/usr/local/lib/python3.4/site-packages/simplejson/__init__.py\u001b[0m in \u001b[0;36mloads\u001b[0;34m(s, encoding, cls, object_hook, parse_float, parse_int, parse_constant, object_pairs_hook, use_decimal, **kw)\u001b[0m\n\u001b[1;32m    503\u001b[0m             \u001b[0mparse_constant\u001b[0m \u001b[0;32mis\u001b[0m \u001b[0;32mNone\u001b[0m \u001b[0;32mand\u001b[0m \u001b[0mobject_pairs_hook\u001b[0m \u001b[0;32mis\u001b[0m \u001b[0;32mNone\u001b[0m\u001b[0;34m\u001b[0m\u001b[0m\n\u001b[1;32m    504\u001b[0m             and not use_decimal and not kw):\n\u001b[0;32m--> 505\u001b[0;31m         \u001b[0;32mreturn\u001b[0m \u001b[0m_default_decoder\u001b[0m\u001b[0;34m.\u001b[0m\u001b[0mdecode\u001b[0m\u001b[0;34m(\u001b[0m\u001b[0ms\u001b[0m\u001b[0;34m)\u001b[0m\u001b[0;34m\u001b[0m\u001b[0m\n\u001b[0m\u001b[1;32m    506\u001b[0m     \u001b[0;32mif\u001b[0m \u001b[0mcls\u001b[0m \u001b[0;32mis\u001b[0m \u001b[0;32mNone\u001b[0m\u001b[0;34m:\u001b[0m\u001b[0;34m\u001b[0m\u001b[0m\n\u001b[1;32m    507\u001b[0m         \u001b[0mcls\u001b[0m \u001b[0;34m=\u001b[0m \u001b[0mJSONDecoder\u001b[0m\u001b[0;34m\u001b[0m\u001b[0m\n",
      "\u001b[0;32m/usr/local/lib/python3.4/site-packages/simplejson/decoder.py\u001b[0m in \u001b[0;36mdecode\u001b[0;34m(self, s, _w, _PY3)\u001b[0m\n\u001b[1;32m    368\u001b[0m         \u001b[0;32mif\u001b[0m \u001b[0m_PY3\u001b[0m \u001b[0;32mand\u001b[0m \u001b[0misinstance\u001b[0m\u001b[0;34m(\u001b[0m\u001b[0ms\u001b[0m\u001b[0;34m,\u001b[0m \u001b[0mbinary_type\u001b[0m\u001b[0;34m)\u001b[0m\u001b[0;34m:\u001b[0m\u001b[0;34m\u001b[0m\u001b[0m\n\u001b[1;32m    369\u001b[0m             \u001b[0ms\u001b[0m \u001b[0;34m=\u001b[0m \u001b[0ms\u001b[0m\u001b[0;34m.\u001b[0m\u001b[0mdecode\u001b[0m\u001b[0;34m(\u001b[0m\u001b[0mself\u001b[0m\u001b[0;34m.\u001b[0m\u001b[0mencoding\u001b[0m\u001b[0;34m)\u001b[0m\u001b[0;34m\u001b[0m\u001b[0m\n\u001b[0;32m--> 370\u001b[0;31m         \u001b[0mobj\u001b[0m\u001b[0;34m,\u001b[0m \u001b[0mend\u001b[0m \u001b[0;34m=\u001b[0m \u001b[0mself\u001b[0m\u001b[0;34m.\u001b[0m\u001b[0mraw_decode\u001b[0m\u001b[0;34m(\u001b[0m\u001b[0ms\u001b[0m\u001b[0;34m)\u001b[0m\u001b[0;34m\u001b[0m\u001b[0m\n\u001b[0m\u001b[1;32m    371\u001b[0m         \u001b[0mend\u001b[0m \u001b[0;34m=\u001b[0m \u001b[0m_w\u001b[0m\u001b[0;34m(\u001b[0m\u001b[0ms\u001b[0m\u001b[0;34m,\u001b[0m \u001b[0mend\u001b[0m\u001b[0;34m)\u001b[0m\u001b[0;34m.\u001b[0m\u001b[0mend\u001b[0m\u001b[0;34m(\u001b[0m\u001b[0;34m)\u001b[0m\u001b[0;34m\u001b[0m\u001b[0m\n\u001b[1;32m    372\u001b[0m         \u001b[0;32mif\u001b[0m \u001b[0mend\u001b[0m \u001b[0;34m!=\u001b[0m \u001b[0mlen\u001b[0m\u001b[0;34m(\u001b[0m\u001b[0ms\u001b[0m\u001b[0;34m)\u001b[0m\u001b[0;34m:\u001b[0m\u001b[0;34m\u001b[0m\u001b[0m\n",
      "\u001b[0;32m/usr/local/lib/python3.4/site-packages/simplejson/decoder.py\u001b[0m in \u001b[0;36mraw_decode\u001b[0;34m(self, s, idx, _w, _PY3)\u001b[0m\n\u001b[1;32m    398\u001b[0m             \u001b[0;32melif\u001b[0m \u001b[0mord0\u001b[0m \u001b[0;34m==\u001b[0m \u001b[0;36m0xef\u001b[0m \u001b[0;32mand\u001b[0m \u001b[0ms\u001b[0m\u001b[0;34m[\u001b[0m\u001b[0midx\u001b[0m\u001b[0;34m:\u001b[0m\u001b[0midx\u001b[0m \u001b[0;34m+\u001b[0m \u001b[0;36m3\u001b[0m\u001b[0;34m]\u001b[0m \u001b[0;34m==\u001b[0m \u001b[0;34m'\\xef\\xbb\\xbf'\u001b[0m\u001b[0;34m:\u001b[0m\u001b[0;34m\u001b[0m\u001b[0m\n\u001b[1;32m    399\u001b[0m                 \u001b[0midx\u001b[0m \u001b[0;34m+=\u001b[0m \u001b[0;36m3\u001b[0m\u001b[0;34m\u001b[0m\u001b[0m\n\u001b[0;32m--> 400\u001b[0;31m         \u001b[0;32mreturn\u001b[0m \u001b[0mself\u001b[0m\u001b[0;34m.\u001b[0m\u001b[0mscan_once\u001b[0m\u001b[0;34m(\u001b[0m\u001b[0ms\u001b[0m\u001b[0;34m,\u001b[0m \u001b[0midx\u001b[0m\u001b[0;34m=\u001b[0m\u001b[0m_w\u001b[0m\u001b[0;34m(\u001b[0m\u001b[0ms\u001b[0m\u001b[0;34m,\u001b[0m \u001b[0midx\u001b[0m\u001b[0;34m)\u001b[0m\u001b[0;34m.\u001b[0m\u001b[0mend\u001b[0m\u001b[0;34m(\u001b[0m\u001b[0;34m)\u001b[0m\u001b[0;34m)\u001b[0m\u001b[0;34m\u001b[0m\u001b[0m\n\u001b[0m",
      "\u001b[0;31mJSONDecodeError\u001b[0m: Expecting value: line 1 column 1 (char 0)"
     ]
    }
   ],
   "source": [
    "call(\"ESTANCIA DE LOS LOPEZ, AMATLÁN DE CANAS\")"
   ]
  },
  {
   "cell_type": "code",
   "execution_count": 40,
   "metadata": {
    "collapsed": false
   },
   "outputs": [],
   "source": [
    "def crossing(street1, street2, city):\n",
    "    query = street1 + \", \" + city + \" --\" + \" \" + street2\n",
    "    output = call(query)\n",
    "    return output\n",
    "\n",
    "def call(query):\n",
    "    query = tools.normalize_data(query)\n",
    "    request_headers={\"Content-Type\":\"application/json\"}\n",
    "    request_body = '{\"idUser\":\"\", \"pagina\":1, \"paramProy\":\"\", \"proyName\":\"mdm6\", \"searchCriteria\":\"'+ query +'\", \"tabla\":\"geolocator\", \"where\":\"\"}'\n",
    "    r = requests.get(\"http://gaia.inegi.org.mx/NLB/tunnel/TableAliasV60/busqueda\", headers=request_headers, data = request_body )\n",
    "    output = r.json()\n",
    "    x1, y1 = tools.extract_point(output)\n",
    "    x2, y2 =  tools.convert_coordinates(x1,y1)\n",
    "    output[\"match\"] = {}\n",
    "    output[\"match\"][\"long\"] = x2\n",
    "    output[\"match\"][\"lat\"] = y2\n",
    "    return output"
   ]
  },
  {
   "cell_type": "code",
   "execution_count": 2,
   "metadata": {
    "collapsed": true
   },
   "outputs": [],
   "source": [
    "import requests\n",
    "import tools"
   ]
  },
  {
   "cell_type": "code",
   "execution_count": 5,
   "metadata": {
    "collapsed": false
   },
   "outputs": [
    {
     "ename": "TypeError",
     "evalue": "'NoneType' object is not subscriptable",
     "output_type": "error",
     "traceback": [
      "\u001b[0;31m---------------------------------------------------------------------------\u001b[0m",
      "\u001b[0;31mTypeError\u001b[0m                                 Traceback (most recent call last)",
      "\u001b[0;32m<ipython-input-5-82bfe0137873>\u001b[0m in \u001b[0;36m<module>\u001b[0;34m()\u001b[0m\n\u001b[0;32m----> 1\u001b[0;31m \u001b[0mcall\u001b[0m\u001b[0;34m(\u001b[0m\u001b[0;34m\"ESTANCIA DE LOS LOPEZ AMATLAN DE CANAS\"\u001b[0m\u001b[0;34m)\u001b[0m\u001b[0;34m\u001b[0m\u001b[0m\n\u001b[0m",
      "\u001b[0;32m<ipython-input-1-e8d2c31f89d4>\u001b[0m in \u001b[0;36mcall\u001b[0;34m(query)\u001b[0m\n\u001b[1;32m      6\u001b[0m     \u001b[0mr\u001b[0m \u001b[0;34m=\u001b[0m \u001b[0mrequests\u001b[0m\u001b[0;34m.\u001b[0m\u001b[0mget\u001b[0m\u001b[0;34m(\u001b[0m\u001b[0;34m\"http://gaia.inegi.org.mx/NLB/tunnel/TableAliasV60/busqueda\"\u001b[0m\u001b[0;34m,\u001b[0m \u001b[0mheaders\u001b[0m\u001b[0;34m=\u001b[0m\u001b[0mrequest_headers\u001b[0m\u001b[0;34m,\u001b[0m \u001b[0mdata\u001b[0m \u001b[0;34m=\u001b[0m \u001b[0mrequest_body\u001b[0m \u001b[0;34m)\u001b[0m\u001b[0;34m\u001b[0m\u001b[0m\n\u001b[1;32m      7\u001b[0m     \u001b[0moutput\u001b[0m \u001b[0;34m=\u001b[0m \u001b[0mr\u001b[0m\u001b[0;34m.\u001b[0m\u001b[0mjson\u001b[0m\u001b[0;34m(\u001b[0m\u001b[0;34m)\u001b[0m\u001b[0;34m\u001b[0m\u001b[0m\n\u001b[0;32m----> 8\u001b[0;31m     \u001b[0moutput\u001b[0m\u001b[0;34m[\u001b[0m\u001b[0;34m\"match\"\u001b[0m\u001b[0;34m]\u001b[0m \u001b[0;34m=\u001b[0m \u001b[0mtools\u001b[0m\u001b[0;34m.\u001b[0m\u001b[0mextract_point\u001b[0m\u001b[0;34m(\u001b[0m\u001b[0moutput\u001b[0m\u001b[0;34m)\u001b[0m\u001b[0;34m\u001b[0m\u001b[0m\n\u001b[0m\u001b[1;32m      9\u001b[0m     \u001b[0;32mreturn\u001b[0m \u001b[0moutput\u001b[0m\u001b[0;34m\u001b[0m\u001b[0m\n\u001b[1;32m     10\u001b[0m \u001b[0;34m\u001b[0m\u001b[0m\n",
      "\u001b[0;32m/Users/rdalanist/DropboxAnterior/CivicHacking/terra/tools.py\u001b[0m in \u001b[0;36mextract_point\u001b[0;34m(response_json)\u001b[0m\n\u001b[1;32m      9\u001b[0m \u001b[0;34m\u001b[0m\u001b[0m\n\u001b[1;32m     10\u001b[0m \u001b[0;32mdef\u001b[0m \u001b[0mextract_point\u001b[0m\u001b[0;34m(\u001b[0m\u001b[0mresponse_json\u001b[0m\u001b[0;34m)\u001b[0m\u001b[0;34m:\u001b[0m\u001b[0;34m\u001b[0m\u001b[0m\n\u001b[0;32m---> 11\u001b[0;31m     \u001b[0;32mfor\u001b[0m \u001b[0malias\u001b[0m \u001b[0;32min\u001b[0m \u001b[0mresponse_json\u001b[0m\u001b[0;34m[\u001b[0m\u001b[0;34m'data'\u001b[0m\u001b[0;34m]\u001b[0m\u001b[0;34m[\u001b[0m\u001b[0;34m'value'\u001b[0m\u001b[0;34m]\u001b[0m\u001b[0;34m[\u001b[0m\u001b[0;36m0\u001b[0m\u001b[0;34m]\u001b[0m\u001b[0;34m[\u001b[0m\u001b[0;34m\"fields\"\u001b[0m\u001b[0;34m]\u001b[0m\u001b[0;34m[\u001b[0m\u001b[0;34m\"fields\"\u001b[0m\u001b[0;34m]\u001b[0m\u001b[0;34m:\u001b[0m\u001b[0;34m\u001b[0m\u001b[0m\n\u001b[0m\u001b[1;32m     12\u001b[0m         \u001b[0;32mif\u001b[0m \u001b[0;34m'POINT'\u001b[0m \u001b[0;32min\u001b[0m \u001b[0malias\u001b[0m\u001b[0;34m[\u001b[0m\u001b[0;34m\"value\"\u001b[0m\u001b[0;34m]\u001b[0m\u001b[0;34m:\u001b[0m\u001b[0;34m\u001b[0m\u001b[0m\n\u001b[1;32m     13\u001b[0m             \u001b[0mpoint_text\u001b[0m \u001b[0;34m=\u001b[0m \u001b[0malias\u001b[0m\u001b[0;34m[\u001b[0m\u001b[0;34m\"value\"\u001b[0m\u001b[0;34m]\u001b[0m\u001b[0;34m\u001b[0m\u001b[0m\n",
      "\u001b[0;31mTypeError\u001b[0m: 'NoneType' object is not subscriptable"
     ]
    }
   ],
   "source": [
    "call(\"ESTANCIA DE LOS LOPEZ AMATLAN DE CANAS\")"
   ]
  },
  {
   "cell_type": "code",
   "execution_count": 36,
   "metadata": {
    "collapsed": false
   },
   "outputs": [],
   "source": [
    "from pyproj import Proj, transform\n",
    "\n",
    "def convert_coordinates(x1,y1):\n",
    "    inProj = Proj(init='epsg:3857')\n",
    "    outProj = Proj(init='epsg:4326')\n",
    "    x2,y2 = transform(inProj,outProj,x1,y1)\n",
    "    return(x2,y2)"
   ]
  },
  {
   "cell_type": "code",
   "execution_count": 41,
   "metadata": {
    "collapsed": false
   },
   "outputs": [
    {
     "data": {
      "text/plain": [
       "{'data': {'aliasUsuario': 'Esquinero',\n",
       "  'camposTotales': None,\n",
       "  'currentPage': 1,\n",
       "  'esTotales': False,\n",
       "  'tabla': 'geocalles',\n",
       "  'totalFields': 1,\n",
       "  'typeFields': '',\n",
       "  'value': [{'fields': {'fields': [{'aliasName': 'Calle',\n",
       "       'value': 'Puerto Soconusco'},\n",
       "      {'aliasName': 'Entidad, Municipio',\n",
       "       'value': 'Nuevo León,  Monterrey,  Monterrey'},\n",
       "      {'aliasName': 'Calle', 'value': 'Puerto Castilla'},\n",
       "      {'aliasName': 'Entidad, Municipio',\n",
       "       'value': 'Nuevo León,  Monterrey,  Monterrey'},\n",
       "      {'aliasName': 'ubicacion',\n",
       "       'value': 'POLYGON((-11163663.4399953 2952895.60067073,-11163663.4399953 2952895.60107073,-11163663.4395953 2952895.60107073,-11163663.4395953 2952895.60067073,-11163663.4399953 2952895.60067073))'},\n",
       "      {'aliasName': '_coordenada',\n",
       "       'value': 'POINT(-11163663.4397953 2952895.60087073)'}]}}]},\n",
       " 'match': {'lat': 25.626509506808368, 'long': -100.28489494734428},\n",
       " 'response': {'message': None, 'success': True}}"
      ]
     },
     "execution_count": 41,
     "metadata": {},
     "output_type": "execute_result"
    }
   ],
   "source": [
    " crossing(\"Puerto Soconusco\", \"Puerto Castilla\", \"Monterrey\")"
   ]
  },
  {
   "cell_type": "code",
   "execution_count": 30,
   "metadata": {
    "collapsed": true
   },
   "outputs": [],
   "source": [
    "import tools"
   ]
  },
  {
   "cell_type": "code",
   "execution_count": 42,
   "metadata": {
    "collapsed": true
   },
   "outputs": [],
   "source": [
    "a  = {\"a\":\"1\"}"
   ]
  },
  {
   "cell_type": "code",
   "execution_count": 43,
   "metadata": {
    "collapsed": true
   },
   "outputs": [],
   "source": [
    "b = {\"b\":2}"
   ]
  },
  {
   "cell_type": "code",
   "execution_count": 46,
   "metadata": {
    "collapsed": false
   },
   "outputs": [],
   "source": [
    "c =a.update(b)"
   ]
  },
  {
   "cell_type": "code",
   "execution_count": 47,
   "metadata": {
    "collapsed": true
   },
   "outputs": [],
   "source": [
    "c"
   ]
  },
  {
   "cell_type": "code",
   "execution_count": null,
   "metadata": {
    "collapsed": true
   },
   "outputs": [],
   "source": []
  }
 ],
 "metadata": {
  "kernelspec": {
   "display_name": "Python 3",
   "language": "python",
   "name": "python3"
  },
  "language_info": {
   "codemirror_mode": {
    "name": "ipython",
    "version": 3
   },
   "file_extension": ".py",
   "mimetype": "text/x-python",
   "name": "python",
   "nbconvert_exporter": "python",
   "pygments_lexer": "ipython3",
   "version": "3.4.1"
  }
 },
 "nbformat": 4,
 "nbformat_minor": 0
}
